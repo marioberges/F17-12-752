{
 "cells": [
  {
   "cell_type": "markdown",
   "metadata": {},
   "source": [
    "# 12-752, Fall 2017: Assignment 4"
   ]
  },
  {
   "cell_type": "markdown",
   "metadata": {},
   "source": [
    "## Task 1\n",
    "How much memory is needed? Answer below:"
   ]
  },
  {
   "cell_type": "markdown",
   "metadata": {},
   "source": [
    "*There are $2^{22}$ possible value for each sate, so the size of transition matrix should be $2^{22}\\times2^{22}$. Each value in the matrix would requir 4 bytes of memory, so totally will be $4\\times2^{22}\\times2^{22}$ bytes of memory were needed. That is to say, we need $2^{46}$ bytes memory, which is approximately 70,369 GB. \n",
    "*"
   ]
  },
  {
   "cell_type": "markdown",
   "metadata": {},
   "source": [
    "## Tasks 2, 3 and 4\n",
    "\n",
    "For your convenience, $z_0$ and $x_0$ is sampled for you below. We also introduce two maps that map a state to an index and back."
   ]
  },
  {
   "cell_type": "code",
   "execution_count": 352,
   "metadata": {},
   "outputs": [
    {
     "name": "stdout",
     "output_type": "stream",
     "text": [
      "['0,1'] [52.36714463888711]\n"
     ]
    }
   ],
   "source": [
    "import numpy as np\n",
    "import matplotlib.pyplot as plt\n",
    "%matplotlib inline\n",
    "import scipy.stats\n",
    "\n",
    "map1 = {'0,0':0, '1,0':1, '0,1':2, '1,1':3}\n",
    "map2 = {0:'0,0', 1:'1,0', 2:'0,1', 3:'1,1'}\n",
    "states = ['0,0', '1,0', '0,1', '1,1']\n",
    "\n",
    "mu = {'0,0':1, '1,0':50, '0,1':55, '1,1':105}\n",
    "sigma = {'0,0':0.1, '1,0':5.1, '0,1':6.1, '1,1':11.1}\n",
    "\n",
    "trans_prob = [[0.8, 0.19, 0.01, 0], [0.22, 0.6, 0, 0.18], [0.1, 0, 0.7, 0.2], [0, 0.13,0.5, 0.37]]\n",
    "initial_prob = [0.25, 0.25, 0.25, 0.25]\n",
    "\n",
    "'''\n",
    "The map function makes accessing the trans_prob's easy:\n",
    "\n",
    "Let's say you want p(z_t = (1,1) | z_t-1 = (0,1))\n",
    "This is just:\n",
    "\n",
    "trans_prob[map1['0,1']][map1['1,1']]\n",
    "'''\n",
    "\n",
    "#This is how you would sample the initial state\n",
    "z = []\n",
    "z.append(np.random.choice(states, p = initial_prob))\n",
    "\n",
    "x = [np.random.normal(mu[z[-1]], sigma[z[-1]])]\n",
    "\n",
    "print(z,x)"
   ]
  },
  {
   "cell_type": "code",
   "execution_count": 353,
   "metadata": {},
   "outputs": [
    {
     "data": {
      "text/plain": [
       "'0,0'"
      ]
     },
     "execution_count": 353,
     "metadata": {},
     "output_type": "execute_result"
    }
   ],
   "source": [
    "states[0]"
   ]
  },
  {
   "cell_type": "markdown",
   "metadata": {},
   "source": [
    "Your solution goes below:"
   ]
  },
  {
   "cell_type": "code",
   "execution_count": 354,
   "metadata": {},
   "outputs": [
    {
     "name": "stdout",
     "output_type": "stream",
     "text": [
      "['0,1', '0,1', '0,1', '0,1', '0,1', '0,1', '0,1', '0,1', '0,1', '0,1', '0,1', '0,1', '1,1', '1,1', '0,1', '1,1', '1,1', '0,1', '0,1', '1,1', '0,1', '0,1', '1,1', '1,0', '1,1', '0,1', '0,1', '0,1', '1,1', '1,1', '0,1', '0,1', '0,1', '0,1', '0,1', '0,1', '1,1', '1,1', '1,1', '0,1', '0,1', '1,1', '1,1', '0,1', '0,1', '0,1', '0,1', '0,1', '0,1', '0,0', '0,0', '0,0', '0,0', '0,0', '0,0', '0,0', '0,0', '0,0', '0,1', '0,1', '0,1', '1,1', '1,0', '1,0', '1,0', '1,1', '1,1', '0,1', '0,1', '1,1', '1,1', '0,1', '0,0', '0,0', '1,0', '1,0', '0,0', '0,0', '1,0', '1,0', '0,0', '0,0', '1,0', '0,0', '1,0', '1,0', '1,1', '1,1', '1,1', '1,1', '0,1', '0,1', '1,1', '0,1', '0,1', '0,1', '0,1', '1,1', '1,1', '0,1', '0,0']\n"
     ]
    }
   ],
   "source": [
    "#Solution to task 2\n",
    "x_value= x\n",
    "p_xz = initial_prob[int(z[-1][0])] *  initial_prob[int(z[-1][2])]\n",
    "P1 = np.zeros((4,100))\n",
    "for i in range(100):\n",
    "    prob2 = [trans_prob[map1[z[-1]]][map1['0,0']],trans_prob[map1[z[-1]]][map1['1,0']],\n",
    "             trans_prob[map1[z[-1]]][map1['0,1']],trans_prob[map1[z[-1]]][map1['1,1']]]\n",
    "    znew = np.random.choice(states,p = prob2)\n",
    "    xnew = np.random.normal(mu[znew], sigma[znew])\n",
    "    \n",
    "    p_zzt = trans_prob[map1[z[-1]]][map1[znew]]\n",
    "    p_xzt = scipy.stats.norm(mu[znew], sigma[znew]).pdf(xnew)\n",
    "    p_xz = p_xz *p_zzt * p_xzt\n",
    "    \n",
    "    z.append(znew)\n",
    "    x_value.append(xnew)\n",
    "\n",
    "    sum_pxz = scipy.stats.norm(mu['0,0'], sigma['0,0']).pdf(xnew) \\\n",
    "    +scipy.stats.norm(mu['1,0'], sigma['1,0']).pdf(xnew)+ \\\n",
    "    scipy.stats.norm(mu['0,1'], sigma['0,1']).pdf(xnew)+ \\\n",
    "    scipy.stats.norm(mu['1,1'], sigma['1,1']).pdf(xnew)\n",
    "    P1[0,i] = scipy.stats.norm(mu['0,0'], sigma['0,0']).pdf(xnew)/sum_pxz\n",
    "    P1[1,i] = scipy.stats.norm(mu['1,0'], sigma['1,0']).pdf(xnew)/sum_pxz\n",
    "    P1[2,i] = scipy.stats.norm(mu['0,1'], sigma['0,1']).pdf(xnew)/sum_pxz\n",
    "    P1[3,i] = scipy.stats.norm(mu['1,1'], sigma['1,1']).pdf(xnew)/sum_pxz\n",
    "    i = i+1\n",
    "print(z)"
   ]
  },
  {
   "cell_type": "markdown",
   "metadata": {},
   "source": [
    "#### Task 3:"
   ]
  },
  {
   "cell_type": "code",
   "execution_count": 355,
   "metadata": {},
   "outputs": [
    {
     "name": "stdout",
     "output_type": "stream",
     "text": [
      "3.39299458362e-147\n"
     ]
    }
   ],
   "source": [
    "#Solution to task 3\n",
    "print(p_xz)"
   ]
  },
  {
   "cell_type": "code",
   "execution_count": 356,
   "metadata": {},
   "outputs": [
    {
     "data": {
      "text/plain": [
       "Text(0,0.5,'Observed Power Values')"
      ]
     },
     "execution_count": 356,
     "metadata": {},
     "output_type": "execute_result"
    },
    {
     "data": {
      "image/png": "[encoded data removed]",
      "text/plain": [
       "<matplotlib.figure.Figure at 0x1fc4783d668>"
      ]
     },
     "metadata": {},
     "output_type": "display_data"
    }
   ],
   "source": [
    "#Solution to task 4\n",
    "plt.plot(x_value)\n",
    "plt.xlabel(\"t\")\n",
    "plt.ylabel(\"Observed Power Values\")"
   ]
  },
  {
   "cell_type": "markdown",
   "metadata": {},
   "source": [
    "## Task 5\n",
    "\n",
    "Compute the P1 matrix.\n"
   ]
  },
  {
   "cell_type": "code",
   "execution_count": 357,
   "metadata": {},
   "outputs": [
    {
     "data": {
      "text/plain": [
       "<matplotlib.image.AxesImage at 0x1fc49ae6470>"
      ]
     },
     "execution_count": 357,
     "metadata": {},
     "output_type": "execute_result"
    },
    {
     "data": {
      "image/png": "[encoded data removed]",
      "text/plain": [
       "<matplotlib.figure.Figure at 0x1fc49aaaba8>"
      ]
     },
     "metadata": {},
     "output_type": "display_data"
    }
   ],
   "source": [
    "# Your solution here:\n",
    "len(P1)\n",
    "# You may want to visualize your matrix as follows:\n",
    "plt.imshow(P1, aspect='auto', interpolation='nearest')"
   ]
  },
  {
   "cell_type": "markdown",
   "metadata": {},
   "source": [
    "## Tasks 6, 7, 8 and 9\n",
    "\n",
    "Computing P2, P3 and comparing to the ground truth.\n"
   ]
  },
  {
   "cell_type": "code",
   "execution_count": 358,
   "metadata": {},
   "outputs": [],
   "source": [
    "## Your code goes here\n",
    "def pzxtS1 (newx, pz):\n",
    "    sum_right = [0,0,0,0]\n",
    "    pz2=[0,0,0,0]\n",
    "    for i in range(4):\n",
    "        sum_right[0] = sum_right[0] + trans_prob[map1[states[i]]][map1[states[0]]]*pz[i]\n",
    "        sum_right[1] = sum_right[1] + trans_prob[map1[states[i]]][map1[states[1]]]*pz[i]\n",
    "        sum_right[2] = sum_right[2] + trans_prob[map1[states[i]]][map1[states[2]]]*pz[i]\n",
    "        sum_right[3] = sum_right[3] + trans_prob[map1[states[i]]][map1[states[3]]]*pz[i]\n",
    "    pz2[0] = scipy.stats.norm(mu[states[0]], sigma[states[0]]).pdf(newx)*sum_right[0]\n",
    "    pz2[1] = scipy.stats.norm(mu[states[1]], sigma[states[1]]).pdf(newx)*sum_right[1]\n",
    "    pz2[2] = scipy.stats.norm(mu[states[2]], sigma[states[2]]).pdf(newx)*sum_right[2]\n",
    "    pz2[3] = scipy.stats.norm(mu[states[3]], sigma[states[3]]).pdf(newx)*sum_right[3]\n",
    "    return pz2 "
   ]
  },
  {
   "cell_type": "code",
   "execution_count": 359,
   "metadata": {},
   "outputs": [],
   "source": [
    "pz0 = [[scipy.stats.norm(mu[states[0]], sigma[states[0]]).pdf(x_value[0])*0.25,\n",
    "        scipy.stats.norm(mu[states[1]], sigma[states[1]]).pdf(x_value[0])*0.25,\n",
    "        scipy.stats.norm(mu[states[2]], sigma[states[2]]).pdf(x_value[0])*0.25,\n",
    "        scipy.stats.norm(mu[states[3]], sigma[states[3]]).pdf(x_value[0])*0.25]]\n",
    "for i in range(100):\n",
    "    pz0.append(pzxtS1(x_value[i+1],pz0[-1]))"
   ]
  },
  {
   "cell_type": "code",
   "execution_count": 360,
   "metadata": {},
   "outputs": [],
   "source": [
    "P2 = np.matrix(pz0).T"
   ]
  },
  {
   "cell_type": "code",
   "execution_count": 361,
   "metadata": {},
   "outputs": [
    {
     "data": {
      "text/plain": [
       "<matplotlib.image.AxesImage at 0x1fc49c70a58>"
      ]
     },
     "execution_count": 361,
     "metadata": {},
     "output_type": "execute_result"
    },
    {
     "data": {
      "image/png": "[encoded data removed]",
      "text/plain": [
       "<matplotlib.figure.Figure at 0x1fc49b012e8>"
      ]
     },
     "metadata": {},
     "output_type": "display_data"
    }
   ],
   "source": [
    "plt.imshow(np.array(P2).T, aspect='auto', interpolation='nearest')\n",
    "# Note that this is P2, non-normalized probabilities."
   ]
  },
  {
   "cell_type": "markdown",
   "metadata": {},
   "source": [
    "### Task 7:"
   ]
  },
  {
   "cell_type": "code",
   "execution_count": 362,
   "metadata": {},
   "outputs": [],
   "source": [
    "sum_column = P2.sum(axis=0).T\n",
    "P3 = np.zeros((4,len(sum_column)))\n",
    "for i in range(len(sum_column)):\n",
    "    P3[0,i] = float(P2[0,i]/sum_column[i])\n",
    "    P3[1,i] = P2[1,i]/sum_column[i]\n",
    "    P3[2,i] = float(P2[2,i]/sum_column[i])\n",
    "    P3[3,i] = float(P2[3,i]/sum_column[i])"
   ]
  },
  {
   "cell_type": "markdown",
   "metadata": {},
   "source": [
    "### Task 8:"
   ]
  },
  {
   "cell_type": "code",
   "execution_count": 363,
   "metadata": {},
   "outputs": [
    {
     "data": {
      "text/plain": [
       "Text(0.5,1,'P1')"
      ]
     },
     "execution_count": 363,
     "metadata": {},
     "output_type": "execute_result"
    },
    {
     "data": {
      "image/png": "[encoded data removed]",
      "text/plain": [
       "<matplotlib.figure.Figure at 0x1fc49ca76d8>"
      ]
     },
     "metadata": {},
     "output_type": "display_data"
    }
   ],
   "source": [
    "f, axarr = plt.subplots(2, sharex=True,figsize=(15,10))\n",
    "axarr[0].imshow(np.array(P3), aspect='auto', interpolation='nearest')\n",
    "axarr[0].set_title('P3')\n",
    "axarr[1].imshow(np.array(P1), aspect='auto', interpolation='nearest')\n",
    "axarr[1].set_title('P1')"
   ]
  },
  {
   "cell_type": "code",
   "execution_count": 364,
   "metadata": {},
   "outputs": [
    {
     "data": {
      "text/plain": [
       "Text(0.5,1,'P0')"
      ]
     },
     "execution_count": 364,
     "metadata": {},
     "output_type": "execute_result"
    },
    {
     "data": {
      "image/png": "[encoded data removed]",
      "text/plain": [
       "<matplotlib.figure.Figure at 0x1fc4a048e48>"
      ]
     },
     "metadata": {},
     "output_type": "display_data"
    }
   ],
   "source": [
    "#P0 = []\n",
    "\n",
    "## Your code goes here\n",
    "P0 = np.zeros((4,len(z)))\n",
    "for i in range(len(z)):\n",
    "    P0[0,i] = 1 * int(z[i] == states[0])\n",
    "    P0[1,i] = 1 * int(z[i] == states[1])\n",
    "    P0[2,i] = 1 * int(z[i] == states[2])\n",
    "    P0[3,i] = 1 * int(z[i] == states[3])\n",
    "plt.figure(figsize=(15,5))\n",
    "plt.imshow(np.array(P0), aspect='auto', interpolation='nearest')\n",
    "plt.title(\"P0\")"
   ]
  },
  {
   "cell_type": "markdown",
   "metadata": {
    "collapsed": true
   },
   "source": [
    "### Task 9:"
   ]
  },
  {
   "cell_type": "code",
   "execution_count": 365,
   "metadata": {},
   "outputs": [
    {
     "data": {
      "text/plain": [
       "Text(0.5,1,'P0')"
      ]
     },
     "execution_count": 365,
     "metadata": {},
     "output_type": "execute_result"
    },
    {
     "data": {
      "image/png": "[encoded data removed]",
      "text/plain": [
       "<matplotlib.figure.Figure at 0x1fc49c87710>"
      ]
     },
     "metadata": {},
     "output_type": "display_data"
    }
   ],
   "source": [
    "f, axarr = plt.subplots(3, sharex=True,figsize=(15,9))\n",
    "axarr[0].imshow(np.array(P3), aspect='auto', interpolation='nearest')\n",
    "axarr[0].set_title('P3')\n",
    "axarr[1].imshow(np.array(P1), aspect='auto', interpolation='nearest')\n",
    "axarr[1].set_title('P1')\n",
    "axarr[2].imshow(np.array(P0), aspect='auto', interpolation='nearest')\n",
    "axarr[2].set_title('P0')"
   ]
  },
  {
   "cell_type": "markdown",
   "metadata": {},
   "source": [
    "*Comments: Basically speaking, when we considered temporal dependencies(P3), the model performances is better than the not considered one(P1). As shown above, P3 is much darker in the second row than P1, and these places are exactly no-exist one (P0). The reason is also obvious. Every $z_t$ is obtained from the previous $x$ and $z$, which can be expressed as $x_{1:t}$ here.\n",
    "*"
   ]
  }
 ],
 "metadata": {
  "anaconda-cloud": {},
  "kernelspec": {
   "display_name": "Python 3",
   "language": "python",
   "name": "python3"
  },
  "language_info": {
   "codemirror_mode": {
    "name": "ipython",
    "version": 3
   },
   "file_extension": ".py",
   "mimetype": "text/x-python",
   "name": "python",
   "nbconvert_exporter": "python",
   "pygments_lexer": "ipython3",
   "version": "3.6.3"
  }
 },
 "nbformat": 4,
 "nbformat_minor": 1
}
